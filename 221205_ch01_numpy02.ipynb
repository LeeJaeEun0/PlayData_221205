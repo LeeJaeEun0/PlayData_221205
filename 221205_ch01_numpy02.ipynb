{
  "nbformat": 4,
  "nbformat_minor": 0,
  "metadata": {
    "colab": {
      "provenance": []
    },
    "kernelspec": {
      "name": "python3",
      "display_name": "Python 3"
    },
    "language_info": {
      "name": "python"
    }
  },
  "cells": [
    {
      "cell_type": "markdown",
      "source": [
        "## Numpy의 자료형\n",
        "* Numpy의 배열 즉, 'narray' 클래스는 원소(element)가 모두 같은 자료형이어야 함\n",
        "* 'np.array'로 배열을 만들 때 자료형을 안 주면 자동으로 지정. 명시적으로 적용하고 싶을때 'dtype' 인수\n",
        "* 만들어진 배열의 자료형을 알고 싶으면 'dtype' 속성"
      ],
      "metadata": {
        "id": "efVMjHUu6JAT"
      }
    },
    {
      "cell_type": "code",
      "source": [
        "import numpy as np"
      ],
      "metadata": {
        "id": "Pf5wjIbI7spO"
      },
      "execution_count": 4,
      "outputs": []
    },
    {
      "cell_type": "code",
      "source": [
        "x = np.array([1,2,3]) # int 정수 ->추론 -> int array\n",
        "x"
      ],
      "metadata": {
        "colab": {
          "base_uri": "https://localhost:8080/"
        },
        "id": "v0FmwzSv7j8E",
        "outputId": "a8bff9dc-91c9-42d7-f09e-3148bfbe5345"
      },
      "execution_count": 5,
      "outputs": [
        {
          "output_type": "execute_result",
          "data": {
            "text/plain": [
              "array([1, 2, 3])"
            ]
          },
          "metadata": {},
          "execution_count": 5
        }
      ]
    },
    {
      "cell_type": "code",
      "source": [
        "x.dtype # 64? 32? 크기"
      ],
      "metadata": {
        "colab": {
          "base_uri": "https://localhost:8080/"
        },
        "id": "n41Av4JY70lA",
        "outputId": "debb4389-baed-42d0-cdff-eec9b3c2f94f"
      },
      "execution_count": 7,
      "outputs": [
        {
          "output_type": "execute_result",
          "data": {
            "text/plain": [
              "dtype('int64')"
            ]
          },
          "metadata": {},
          "execution_count": 7
        }
      ]
    },
    {
      "cell_type": "code",
      "source": [
        "x = np.array([1,2,3.0])\n",
        "x.dtype # 정수(int) < 실수(float) < ... < Object"
      ],
      "metadata": {
        "colab": {
          "base_uri": "https://localhost:8080/"
        },
        "id": "KC4zmQHa7-2H",
        "outputId": "cda40570-f26b-4bdd-a041-08396768f742"
      },
      "execution_count": 8,
      "outputs": [
        {
          "output_type": "execute_result",
          "data": {
            "text/plain": [
              "dtype('float64')"
            ]
          },
          "metadata": {},
          "execution_count": 8
        }
      ]
    },
    {
      "cell_type": "code",
      "source": [
        "x = np.array([1,2,3], dtype='f')\n",
        "x.dtype "
      ],
      "metadata": {
        "colab": {
          "base_uri": "https://localhost:8080/"
        },
        "id": "hfqr5vEE8OKO",
        "outputId": "7f0e87a3-0040-4a3f-8eeb-aeba5d593f2d"
      },
      "execution_count": 9,
      "outputs": [
        {
          "output_type": "execute_result",
          "data": {
            "text/plain": [
              "dtype('float32')"
            ]
          },
          "metadata": {},
          "execution_count": 9
        }
      ]
    },
    {
      "cell_type": "markdown",
      "source": [
        "* `dtype` 인수\n",
        "    * dtype 접두사로 시작하는 문자열\n",
        "    * 접두사 뒤 오는 숫자 = 바이트 수 혹은 글자 수\n",
        "    * 숫자 생략 시 운영체제에 따라 알맞은 크기 지정\n",
        "\n",
        "|dtype 접두사|설명|사용 예|\n",
        "|-|-|-|\n",
        "|`b`|불리언|`b` (참 혹은 거짓)|\n",
        "|`i`|정수|`i8` (64비트)|\n",
        "|`u`|부호 없는 정수|`u8` (64비트)|\n",
        "|`f`|부동소수점|`f8` (64비트)|\n",
        "|`c`|복소 부동소수점|`c16` (128비트)|\n",
        "|`O`|객체|`0` (객체에 대한 포인터)|\n",
        "|`S`|바이트 문자열|`S24` (24 글자)|\n",
        "|`U`|유니코드 문자열|`U24` (24 유니코드 글자)|"
      ],
      "metadata": {
        "id": "4At0FmHV8Vcj"
      }
    },
    {
      "cell_type": "code",
      "source": [
        "x= np.array([1,2,3], dtype='f') # float - > 숫자가 없으니까\n",
        "x.dtype"
      ],
      "metadata": {
        "colab": {
          "base_uri": "https://localhost:8080/"
        },
        "id": "jnla2bwC8dHZ",
        "outputId": "c44529ac-959a-45c3-eed1-8a6cb2453734"
      },
      "execution_count": 10,
      "outputs": [
        {
          "output_type": "execute_result",
          "data": {
            "text/plain": [
              "dtype('float32')"
            ]
          },
          "metadata": {},
          "execution_count": 10
        }
      ]
    },
    {
      "cell_type": "code",
      "source": [
        "x[0] + x[1] # 1+2 = 3"
      ],
      "metadata": {
        "colab": {
          "base_uri": "https://localhost:8080/"
        },
        "id": "tFeBj2hJ8nVU",
        "outputId": "7fbb451b-2a20-421b-d956-1114d838f107"
      },
      "execution_count": 11,
      "outputs": [
        {
          "output_type": "execute_result",
          "data": {
            "text/plain": [
              "3.0"
            ]
          },
          "metadata": {},
          "execution_count": 11
        }
      ]
    },
    {
      "cell_type": "code",
      "source": [
        "x = np.array([1,2,3],dtype='U')\n",
        "x.dtype"
      ],
      "metadata": {
        "colab": {
          "base_uri": "https://localhost:8080/"
        },
        "id": "e2WvbpCG8xzP",
        "outputId": "fc690b2a-9689-4fa0-ae56-efd047724d2c"
      },
      "execution_count": 12,
      "outputs": [
        {
          "output_type": "execute_result",
          "data": {
            "text/plain": [
              "dtype('<U1')"
            ]
          },
          "metadata": {},
          "execution_count": 12
        }
      ]
    },
    {
      "cell_type": "code",
      "source": [
        "x[0] + x[1] # 문자 상태니까 +는 연결을 한다. # dtype으로 확인을 해야한다."
      ],
      "metadata": {
        "colab": {
          "base_uri": "https://localhost:8080/",
          "height": 35
        },
        "id": "3-NgsBV587-k",
        "outputId": "f3202b8b-aad8-4f4a-cf29-8c566046487c"
      },
      "execution_count": 13,
      "outputs": [
        {
          "output_type": "execute_result",
          "data": {
            "text/plain": [
              "'12'"
            ],
            "application/vnd.google.colaboratory.intrinsic+json": {
              "type": "string"
            }
          },
          "metadata": {},
          "execution_count": 13
        }
      ]
    },
    {
      "cell_type": "markdown",
      "source": [
        "## inf와 NaN \n",
        "* 무한대를 표현하기 위한 `np.inf`(infinity)라는 값이 있음\n",
        "* 정의할 수 없는 숫자: `np.nan`(not a number)"
      ],
      "metadata": {
        "id": "k-nb8bZO8_Wi"
      }
    },
    {
      "cell_type": "code",
      "source": [
        "np.array([0,1,-1,0]) / np.array([1,0,0,0]) # 결과 0,  inf, -inf,  nan(0끼리 나눌 수 없음)"
      ],
      "metadata": {
        "colab": {
          "base_uri": "https://localhost:8080/"
        },
        "id": "CQUoXjO29RPz",
        "outputId": "15d63a55-fdac-4c03-e7f0-7af8437ae768"
      },
      "execution_count": 14,
      "outputs": [
        {
          "output_type": "stream",
          "name": "stderr",
          "text": [
            "<ipython-input-14-720e9e2d83ea>:1: RuntimeWarning: divide by zero encountered in true_divide\n",
            "  np.array([0,1,-1,0]) / np.array([1,0,0,0])\n",
            "<ipython-input-14-720e9e2d83ea>:1: RuntimeWarning: invalid value encountered in true_divide\n",
            "  np.array([0,1,-1,0]) / np.array([1,0,0,0])\n"
          ]
        },
        {
          "output_type": "execute_result",
          "data": {
            "text/plain": [
              "array([  0.,  inf, -inf,  nan])"
            ]
          },
          "metadata": {},
          "execution_count": 14
        }
      ]
    },
    {
      "cell_type": "code",
      "source": [
        "np.log(0)"
      ],
      "metadata": {
        "colab": {
          "base_uri": "https://localhost:8080/"
        },
        "id": "kRbfmhBs97TM",
        "outputId": "833e3e63-9fd7-41e1-bc6f-13bac12ddde1"
      },
      "execution_count": 15,
      "outputs": [
        {
          "output_type": "stream",
          "name": "stderr",
          "text": [
            "<ipython-input-15-f6e7c0610b57>:1: RuntimeWarning: divide by zero encountered in log\n",
            "  np.log(0)\n"
          ]
        },
        {
          "output_type": "execute_result",
          "data": {
            "text/plain": [
              "-inf"
            ]
          },
          "metadata": {},
          "execution_count": 15
        }
      ]
    },
    {
      "cell_type": "markdown",
      "source": [
        "## 배열 생성"
      ],
      "metadata": {
        "id": "XfdPZngg-Jbn"
      }
    },
    {
      "cell_type": "code",
      "source": [
        "#@title np.zeros : 크기가 정해져 있고, 모든 값이 0인 배열을 생성\n",
        "a = np.zeros(5) # 배열을 선언하는데 0으로 채운 것!\n",
        "a"
      ],
      "metadata": {
        "colab": {
          "base_uri": "https://localhost:8080/"
        },
        "id": "fXlhtQlQ-ZPy",
        "outputId": "3a1f6296-a15d-480a-c58d-11d7146d3bfc"
      },
      "execution_count": 18,
      "outputs": [
        {
          "output_type": "execute_result",
          "data": {
            "text/plain": [
              "array([0., 0., 0., 0., 0.])"
            ]
          },
          "metadata": {},
          "execution_count": 18
        }
      ]
    },
    {
      "cell_type": "code",
      "source": [
        "# 튜플을 넣으면 해당 크기의 0으로 채워진 다차원 배열을 생성\n",
        "b = np.zeros((2,3))\n",
        "b"
      ],
      "metadata": {
        "colab": {
          "base_uri": "https://localhost:8080/"
        },
        "id": "XIm_D64j-nIR",
        "outputId": "3abe57d9-4ffd-46d4-e9e0-b67a9afbcb5d"
      },
      "execution_count": 22,
      "outputs": [
        {
          "output_type": "execute_result",
          "data": {
            "text/plain": [
              "array([[0., 0., 0.],\n",
              "       [0., 0., 0.]])"
            ]
          },
          "metadata": {},
          "execution_count": 22
        }
      ]
    },
    {
      "cell_type": "code",
      "source": [
        "b.shape"
      ],
      "metadata": {
        "colab": {
          "base_uri": "https://localhost:8080/"
        },
        "id": "t0D4W0tp_gye",
        "outputId": "14198c62-4cf2-49de-9720-20142b75ff9f"
      },
      "execution_count": 23,
      "outputs": [
        {
          "output_type": "execute_result",
          "data": {
            "text/plain": [
              "(2, 3)"
            ]
          },
          "metadata": {},
          "execution_count": 23
        }
      ]
    },
    {
      "cell_type": "code",
      "source": [
        "b.dtype"
      ],
      "metadata": {
        "colab": {
          "base_uri": "https://localhost:8080/"
        },
        "id": "2XbJbmTa_BVr",
        "outputId": "3b7917c8-34e9-45b6-9907-35c462ccb141"
      },
      "execution_count": 20,
      "outputs": [
        {
          "output_type": "execute_result",
          "data": {
            "text/plain": [
              "dtype('float64')"
            ]
          },
          "metadata": {},
          "execution_count": 20
        }
      ]
    },
    {
      "cell_type": "code",
      "source": [
        "# dtype 인수 명시 할 경우 해당 자료형 원소 타입 부여\n",
        "c= np.zeros((5,2), dtype='i')\n",
        "c"
      ],
      "metadata": {
        "colab": {
          "base_uri": "https://localhost:8080/"
        },
        "id": "u0RdtWVq_Sc_",
        "outputId": "bc9a8d7d-040c-4155-a384-af9d0f0ee2c8"
      },
      "execution_count": 21,
      "outputs": [
        {
          "output_type": "execute_result",
          "data": {
            "text/plain": [
              "array([[0, 0],\n",
              "       [0, 0],\n",
              "       [0, 0],\n",
              "       [0, 0],\n",
              "       [0, 0]], dtype=int32)"
            ]
          },
          "metadata": {},
          "execution_count": 21
        }
      ]
    },
    {
      "cell_type": "code",
      "source": [
        "# zeros 숫자 -> 모든 원소의 문자열 크기만 갖다면 문자열 배열\n",
        "# 만약 더 큰 크기의 문자열을 할당하면 잘림\n",
        "d = np.zeros(5, dtype='U4')"
      ],
      "metadata": {
        "id": "yDNw4kTC_ekM"
      },
      "execution_count": 24,
      "outputs": []
    },
    {
      "cell_type": "code",
      "source": [
        "d[0] = 'abc'\n",
        "d[1] = 'abcd'\n",
        "d[2] = 'ABCDE' #E가 짤림\n",
        "d"
      ],
      "metadata": {
        "colab": {
          "base_uri": "https://localhost:8080/"
        },
        "id": "o8zRDgmv_6lO",
        "outputId": "0215fa52-3801-4a5c-a08c-142c52aab7de"
      },
      "execution_count": 26,
      "outputs": [
        {
          "output_type": "execute_result",
          "data": {
            "text/plain": [
              "array(['abc', 'abcd', 'ABCD', '', ''], dtype='<U4')"
            ]
          },
          "metadata": {},
          "execution_count": 26
        }
      ]
    },
    {
      "cell_type": "markdown",
      "source": [
        "## ones: 1로 초기화된 배열 생성"
      ],
      "metadata": {
        "id": "ElvPESmvAH_4"
      }
    },
    {
      "cell_type": "code",
      "source": [
        "e = np.ones((2,3,4), dtype='i8')\n",
        "e"
      ],
      "metadata": {
        "colab": {
          "base_uri": "https://localhost:8080/"
        },
        "id": "WWx-VAmKAhpS",
        "outputId": "2d17556c-b146-48a2-f511-e021daeaeebe"
      },
      "execution_count": 27,
      "outputs": [
        {
          "output_type": "execute_result",
          "data": {
            "text/plain": [
              "array([[[1, 1, 1, 1],\n",
              "        [1, 1, 1, 1],\n",
              "        [1, 1, 1, 1]],\n",
              "\n",
              "       [[1, 1, 1, 1],\n",
              "        [1, 1, 1, 1],\n",
              "        [1, 1, 1, 1]]])"
            ]
          },
          "metadata": {},
          "execution_count": 27
        }
      ]
    },
    {
      "cell_type": "code",
      "source": [
        "f = np.ones_like(b,dtype='f') #1으로 \n",
        "f, f.shape"
      ],
      "metadata": {
        "colab": {
          "base_uri": "https://localhost:8080/"
        },
        "id": "l7yTQ2ybArgT",
        "outputId": "7107c8f9-8641-4a36-9c1c-23e27d5ab258"
      },
      "execution_count": 29,
      "outputs": [
        {
          "output_type": "execute_result",
          "data": {
            "text/plain": [
              "(array([[1., 1., 1.],\n",
              "        [1., 1., 1.]], dtype=float32), (2, 3))"
            ]
          },
          "metadata": {},
          "execution_count": 29
        }
      ]
    },
    {
      "cell_type": "code",
      "source": [
        "#@title np.empty\n",
        "# * 시간이 절약, 메모리 절약\n",
        "# * 초기화를 하지 않는다 -> 덮어씌우지 않음\n",
        "# * 자리만 잡고 테이블은 안치움\n",
        "\n",
        "g = np.empty((4,3)) \n",
        "g"
      ],
      "metadata": {
        "colab": {
          "base_uri": "https://localhost:8080/"
        },
        "id": "BRkcn-97A7Ci",
        "outputId": "ebf25445-502c-4038-c104-6b51175a728c"
      },
      "execution_count": 31,
      "outputs": [
        {
          "output_type": "execute_result",
          "data": {
            "text/plain": [
              "array([[1.84862448e-316, 2.47032823e-322, 0.00000000e+000],\n",
              "       [0.00000000e+000, 0.00000000e+000, 1.31370903e-076],\n",
              "       [4.51235098e-090, 3.99761409e+175, 3.63421710e+174],\n",
              "       [8.83077831e+169, 3.99910963e+252, 1.46030983e-319]])"
            ]
          },
          "metadata": {},
          "execution_count": 31
        }
      ]
    },
    {
      "cell_type": "code",
      "source": [
        "g.shape, g.dtype"
      ],
      "metadata": {
        "colab": {
          "base_uri": "https://localhost:8080/"
        },
        "id": "82LLcaPvBN1b",
        "outputId": "9ac30dcb-dd4b-4d44-bb9f-5f7f2e5aa235"
      },
      "execution_count": 33,
      "outputs": [
        {
          "output_type": "execute_result",
          "data": {
            "text/plain": [
              "((4, 3), dtype('float64'))"
            ]
          },
          "metadata": {},
          "execution_count": 33
        }
      ]
    },
    {
      "cell_type": "markdown",
      "source": [
        "## np.arange: 특정 규칙에 따라 증가하는 수열 ->  배열 range\n"
      ],
      "metadata": {
        "id": "D01fZBzEBl_W"
      }
    },
    {
      "cell_type": "code",
      "source": [
        "np.arange(3,21,2) # 시작(포함), 끝(끝-1까지), 단계"
      ],
      "metadata": {
        "colab": {
          "base_uri": "https://localhost:8080/"
        },
        "id": "7SI6Qf4yCcIe",
        "outputId": "cbe48ac0-59e8-4481-d37c-23e596156250"
      },
      "execution_count": 34,
      "outputs": [
        {
          "output_type": "execute_result",
          "data": {
            "text/plain": [
              "array([ 3,  5,  7,  9, 11, 13, 15, 17, 19])"
            ]
          },
          "metadata": {},
          "execution_count": 34
        }
      ]
    },
    {
      "cell_type": "markdown",
      "source": [
        "## np.linspace(linear)\n",
        "* 선현구간을 지정한 구간의 수만큼 분활"
      ],
      "metadata": {
        "id": "-X4KL28uCcjW"
      }
    },
    {
      "cell_type": "code",
      "source": [
        "np.linspace(0,100,5) # 시작(포함), 끝(끝-1까지), 단계"
      ],
      "metadata": {
        "colab": {
          "base_uri": "https://localhost:8080/"
        },
        "id": "nlhjMA49CnTn",
        "outputId": "31fee977-2c38-4f71-fea5-c5e1a938cade"
      },
      "execution_count": 36,
      "outputs": [
        {
          "output_type": "execute_result",
          "data": {
            "text/plain": [
              "array([  0.,  25.,  50.,  75., 100.])"
            ]
          },
          "metadata": {},
          "execution_count": 36
        }
      ]
    },
    {
      "cell_type": "markdown",
      "source": [
        "## np.logspace(log)\n",
        "* 로그 구간을 지정"
      ],
      "metadata": {
        "id": "cFXcDqStCtEg"
      }
    },
    {
      "cell_type": "code",
      "source": [
        "np.logspace(0.1,1,10)"
      ],
      "metadata": {
        "colab": {
          "base_uri": "https://localhost:8080/"
        },
        "id": "aksHSd33C7kB",
        "outputId": "dc42a527-c02c-4ae7-ba7f-67b6c0c5790e"
      },
      "execution_count": 37,
      "outputs": [
        {
          "output_type": "execute_result",
          "data": {
            "text/plain": [
              "array([ 1.25892541,  1.58489319,  1.99526231,  2.51188643,  3.16227766,\n",
              "        3.98107171,  5.01187234,  6.30957344,  7.94328235, 10.        ])"
            ]
          },
          "metadata": {},
          "execution_count": 37
        }
      ]
    },
    {
      "cell_type": "markdown",
      "source": [
        "## 전치연산(transpose)\n",
        "* 2차원 배열에서 행과 열을 바꾸는 작업\n",
        "* 배열의 T 속성"
      ],
      "metadata": {
        "id": "_18BM8VRDACD"
      }
    },
    {
      "cell_type": "code",
      "source": [
        "A = np.array([[1,2,3],[4,5,6]])\n",
        "A, A.shape # (2, 3)"
      ],
      "metadata": {
        "colab": {
          "base_uri": "https://localhost:8080/"
        },
        "id": "7lZyhXiiHFb-",
        "outputId": "4618bca8-dac6-41c7-9ca6-9fdd70a8ab92"
      },
      "execution_count": 38,
      "outputs": [
        {
          "output_type": "execute_result",
          "data": {
            "text/plain": [
              "(array([[1, 2, 3],\n",
              "        [4, 5, 6]]), (2, 3))"
            ]
          },
          "metadata": {},
          "execution_count": 38
        }
      ]
    },
    {
      "cell_type": "code",
      "source": [
        "A.T, A.shape # (2, 3)"
      ],
      "metadata": {
        "colab": {
          "base_uri": "https://localhost:8080/"
        },
        "id": "fql28wXXHMpH",
        "outputId": "71a8a4cf-a630-4d20-965d-7576eb9cf641"
      },
      "execution_count": 40,
      "outputs": [
        {
          "output_type": "execute_result",
          "data": {
            "text/plain": [
              "(array([[1, 4],\n",
              "        [2, 5],\n",
              "        [3, 6]]), (2, 3))"
            ]
          },
          "metadata": {},
          "execution_count": 40
        }
      ]
    },
    {
      "cell_type": "markdown",
      "source": [
        "## 배열의 크기 변형(`reshape`)"
      ],
      "metadata": {
        "id": "pvQ_xSdlHOh9"
      }
    },
    {
      "cell_type": "code",
      "source": [
        "a = np.arange(12) # 0 - 11까지\n",
        "a"
      ],
      "metadata": {
        "colab": {
          "base_uri": "https://localhost:8080/"
        },
        "id": "rgmS8VHAHhFC",
        "outputId": "5d81b6b5-030b-4fc8-a7a3-dd56aea544b1"
      },
      "execution_count": 41,
      "outputs": [
        {
          "output_type": "execute_result",
          "data": {
            "text/plain": [
              "array([ 0,  1,  2,  3,  4,  5,  6,  7,  8,  9, 10, 11])"
            ]
          },
          "metadata": {},
          "execution_count": 41
        }
      ]
    },
    {
      "cell_type": "code",
      "source": [
        "# (12) -> (3,4)\n",
        "b = a.reshape(3,4) # 배열의 모양을 바꿔줌 1차원 배열을 2차원배열로 변형\n",
        "b"
      ],
      "metadata": {
        "colab": {
          "base_uri": "https://localhost:8080/"
        },
        "id": "FKNBXiXqHkwD",
        "outputId": "a4f8c8b2-b26c-4260-a069-11c31a0e2989"
      },
      "execution_count": 42,
      "outputs": [
        {
          "output_type": "execute_result",
          "data": {
            "text/plain": [
              "array([[ 0,  1,  2,  3],\n",
              "       [ 4,  5,  6,  7],\n",
              "       [ 8,  9, 10, 11]])"
            ]
          },
          "metadata": {},
          "execution_count": 42
        }
      ]
    },
    {
      "cell_type": "code",
      "source": [
        "# -1 : 행의 개수를 정하면 알아서 열의 개수가 결정됨 -> 다른 값들을 통해서 계산된 값을 채워줌\n",
        "a.reshape(3,-1) #12 ->3으로 나누니 남은 수가 4인데 대신 -1로 표시 가능, 행, 열 둘 중에 하나를 -1로 가능"
      ],
      "metadata": {
        "colab": {
          "base_uri": "https://localhost:8080/"
        },
        "id": "09qm_G5THxZv",
        "outputId": "2c8fb0be-5860-462a-b42c-79a1fd5b3a2e"
      },
      "execution_count": 44,
      "outputs": [
        {
          "output_type": "execute_result",
          "data": {
            "text/plain": [
              "array([[ 0,  1,  2,  3],\n",
              "       [ 4,  5,  6,  7],\n",
              "       [ 8,  9, 10, 11]])"
            ]
          },
          "metadata": {},
          "execution_count": 44
        }
      ]
    },
    {
      "cell_type": "code",
      "source": [
        "#a.reshape(2,3,2)\n",
        "a.reshape(-1,3,2) # 하나는 -1로 바꿀 수 있다."
      ],
      "metadata": {
        "colab": {
          "base_uri": "https://localhost:8080/"
        },
        "id": "_LLdJKLYH9m2",
        "outputId": "e0dba4c8-1adf-44d7-a6be-0e239f31ab29"
      },
      "execution_count": 45,
      "outputs": [
        {
          "output_type": "execute_result",
          "data": {
            "text/plain": [
              "array([[[ 0,  1],\n",
              "        [ 2,  3],\n",
              "        [ 4,  5]],\n",
              "\n",
              "       [[ 6,  7],\n",
              "        [ 8,  9],\n",
              "        [10, 11]]])"
            ]
          },
          "metadata": {},
          "execution_count": 45
        }
      ]
    },
    {
      "cell_type": "markdown",
      "source": [
        "## 배열 평탄화(`flatten`,`ravel`)\n",
        "* 다차원 배열을 1차원으로 변환"
      ],
      "metadata": {
        "id": "RPHi1yk8IdcT"
      }
    },
    {
      "cell_type": "code",
      "source": [
        "b"
      ],
      "metadata": {
        "colab": {
          "base_uri": "https://localhost:8080/"
        },
        "id": "qRhP2bCNJJBI",
        "outputId": "0656803e-4161-4d2b-fd12-c6c6838c23b5"
      },
      "execution_count": 47,
      "outputs": [
        {
          "output_type": "execute_result",
          "data": {
            "text/plain": [
              "array([[ 0,  1,  2,  3],\n",
              "       [ 4,  5,  6,  7],\n",
              "       [ 8,  9, 10, 11]])"
            ]
          },
          "metadata": {},
          "execution_count": 47
        }
      ]
    },
    {
      "cell_type": "code",
      "source": [
        "b.flatten()"
      ],
      "metadata": {
        "colab": {
          "base_uri": "https://localhost:8080/"
        },
        "id": "F0mXdQnOJBNv",
        "outputId": "95a16a3e-545f-40ef-f0bd-075fc7dfbda4"
      },
      "execution_count": 46,
      "outputs": [
        {
          "output_type": "execute_result",
          "data": {
            "text/plain": [
              "array([ 0,  1,  2,  3,  4,  5,  6,  7,  8,  9, 10, 11])"
            ]
          },
          "metadata": {},
          "execution_count": 46
        }
      ]
    },
    {
      "cell_type": "code",
      "source": [
        "b.ravel()"
      ],
      "metadata": {
        "colab": {
          "base_uri": "https://localhost:8080/"
        },
        "id": "ZiDfJafPJLi5",
        "outputId": "092ac62e-4d39-4a35-8a47-689755a46804"
      },
      "execution_count": 48,
      "outputs": [
        {
          "output_type": "execute_result",
          "data": {
            "text/plain": [
              "array([ 0,  1,  2,  3,  4,  5,  6,  7,  8,  9, 10, 11])"
            ]
          },
          "metadata": {},
          "execution_count": 48
        }
      ]
    },
    {
      "cell_type": "markdown",
      "source": [
        "## 같은 배열에 대한 차원만 1차원 증가(`newaxis`)"
      ],
      "metadata": {
        "id": "2XSAPLdaJPPJ"
      }
    },
    {
      "cell_type": "code",
      "source": [
        "x = np.arange(5) # 1차원 배열\n",
        "x"
      ],
      "metadata": {
        "colab": {
          "base_uri": "https://localhost:8080/"
        },
        "id": "pGs95qlzJejI",
        "outputId": "032b8411-89ca-42f9-e7dd-235cdadca497"
      },
      "execution_count": 49,
      "outputs": [
        {
          "output_type": "execute_result",
          "data": {
            "text/plain": [
              "array([0, 1, 2, 3, 4])"
            ]
          },
          "metadata": {},
          "execution_count": 49
        }
      ]
    },
    {
      "cell_type": "code",
      "source": [
        "x[:, np.newaxis] # 차원을 추가함 # 1차원 배열이 2차원 배열로!"
      ],
      "metadata": {
        "colab": {
          "base_uri": "https://localhost:8080/"
        },
        "id": "Fd025UOLJiUe",
        "outputId": "9f2811ce-38f0-4419-ee73-ca72ea999a3e"
      },
      "execution_count": 50,
      "outputs": [
        {
          "output_type": "execute_result",
          "data": {
            "text/plain": [
              "array([[0],\n",
              "       [1],\n",
              "       [2],\n",
              "       [3],\n",
              "       [4]])"
            ]
          },
          "metadata": {},
          "execution_count": 50
        }
      ]
    },
    {
      "cell_type": "code",
      "source": [],
      "metadata": {
        "id": "PWnR4UhhJpaL"
      },
      "execution_count": null,
      "outputs": []
    }
  ]
}