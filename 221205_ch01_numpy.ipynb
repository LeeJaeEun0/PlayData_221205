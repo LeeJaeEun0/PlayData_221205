{
  "nbformat": 4,
  "nbformat_minor": 0,
  "metadata": {
    "colab": {
      "provenance": [],
      "toc_visible": true
    },
    "kernelspec": {
      "name": "python3",
      "display_name": "Python 3"
    },
    "language_info": {
      "name": "python"
    }
  },
  "cells": [
    {
      "cell_type": "markdown",
      "source": [
        "골든 서클 이론\n",
        "* 목적, 목표 \n",
        "* 어떤 방식, 도구를 사용할 것인가?\n",
        "* 그래서 구체적으로 배우는데 뭘까?"
      ],
      "metadata": {
        "id": "eKRWnelw4NR9"
      }
    },
    {
      "cell_type": "markdown",
      "source": [
        "인공지능: 인간의 지능을 흉내낸 컴퓨터 프로그램을 만드는 것<br>\n",
        " => 컴퓨터 프로그램이다. = 많은 계산, 많은 데이터를 처리할 수 있어야함<br>\n",
        " 컴퓨터에 게 최적화된 방식으로 제공(숫자나 규치적으로 반복되는 것)<br>\n",
        " 컴퓨터가 이해하기 좋게 데이터를 다듬는 과정(70%): 전처리<br>\n",
        " 이해하기 좋다 = 0,1.... (우리가 이해할 수 없음)<br>\n",
        " 반복되는 타입을 가진 나열된 데이터(배열)을 통해 컴퓨터가 이해하도록 => 넘파이가! <br>\n",
        " =>Numpy는 데이터를 다듬는 형태로 존재\n"
      ],
      "metadata": {
        "id": "i84HXsA15AW8"
      }
    },
    {
      "cell_type": "markdown",
      "source": [
        "## NumPy(넘파이 특징)\n",
        "* 과학 계산을 위한 라이브러리\n",
        "* 행렬/배열 처리 및 생산\n",
        "* 난수 생성"
      ],
      "metadata": {
        "id": "A4wUIr6jX6qV"
      }
    },
    {
      "cell_type": "markdown",
      "source": [
        "# 배열\n",
        "* 0개 이상의 데이터를 하나의 변수에 할당: 리스트(list)"
      ],
      "metadata": {
        "id": "BP387VKy6Fud"
      }
    },
    {
      "cell_type": "code",
      "source": [
        "a = []\n",
        "a.append('a')\n",
        "a"
      ],
      "metadata": {
        "colab": {
          "base_uri": "https://localhost:8080/"
        },
        "id": "rPojIwiX6OjT",
        "outputId": "3cfde45e-9d1d-4594-8973-a9965ea08193"
      },
      "execution_count": 1,
      "outputs": [
        {
          "output_type": "execute_result",
          "data": {
            "text/plain": [
              "['a']"
            ]
          },
          "metadata": {},
          "execution_count": 1
        }
      ]
    },
    {
      "cell_type": "markdown",
      "source": [
        "* 리스트: 컴퓨터가 리스트를 싫어하는 이유(인간에 친화적이지만 컴퓨터에게는 어려움-처리하기 힘듬)\n",
        "1. 길이가 가변적임 -> 메모리 문제(c/c++은 배열 길이를 먼저 선언)\n",
        "2. 들어가는 타입이 다양함. -> int, str 등 여러 형을 같이 넣을 수 있다.<br>\n",
        "  -> 예약 손님이 몇분인지, 메뉴도 모름\n",
        "* 배열(컴퓨터에 친화적 - 처리하기 좋음)\n",
        "1. 길이가 고정적임 (원소의 갯수를 바꿀 수가 없음)\n",
        "2. 타입이 고정적인 (모든 원소의 타입이 같은 자료형이여함.)<br>\n",
        "  -> 예약 손님이 10분인지, 샌드위치 10개<br>\n",
        "  => 적은 메모리로 많은 데이터를 빠르게 처리할 수 있음"
      ],
      "metadata": {
        "id": "qSF-CjA66VFM"
      }
    },
    {
      "cell_type": "code",
      "source": [
        "# 파이썬에는 배열을 처리하는 자체 내장 패키지 x\n",
        "# !pip install -> colab의 장점 : 웬만한 것 다 깔려 있음\n",
        "import numpy as np\n",
        "# colab에서 tab 누르면 자동완성\n",
        "# colab 블록 실행: ctrl + enter\n",
        "# 블록을 실행하고 추가 블록 생성: alt + enter"
      ],
      "metadata": {
        "id": "khRCBD6P79Bj"
      },
      "execution_count": 2,
      "outputs": []
    },
    {
      "cell_type": "markdown",
      "source": [
        "## 1차원 배열\n",
        "* 축이 1개인 배열\n",
        "* 리스트나 튜플처럼 한 줄로 이루어진 배열"
      ],
      "metadata": {
        "id": "N8qUPLDg8miT"
      }
    },
    {
      "cell_type": "code",
      "source": [
        "np.array([1,2,3])"
      ],
      "metadata": {
        "colab": {
          "base_uri": "https://localhost:8080/"
        },
        "id": "rM4HHokl8O3T",
        "outputId": "38a5c480-6c6c-40f7-87b2-da9ccb80e6d4"
      },
      "execution_count": 5,
      "outputs": [
        {
          "output_type": "execute_result",
          "data": {
            "text/plain": [
              "array([1, 2, 3])"
            ]
          },
          "metadata": {},
          "execution_count": 5
        }
      ]
    },
    {
      "cell_type": "code",
      "source": [
        "np.array([1,2,3,'a']) # 다른 타입을 입력하는 경우"
      ],
      "metadata": {
        "colab": {
          "base_uri": "https://localhost:8080/"
        },
        "id": "HoWDcIZr8x9C",
        "outputId": "5bf7e627-7690-4a64-e77d-870419222225"
      },
      "execution_count": 6,
      "outputs": [
        {
          "output_type": "execute_result",
          "data": {
            "text/plain": [
              "array(['1', '2', '3', 'a'], dtype='<U21')"
            ]
          },
          "metadata": {},
          "execution_count": 6
        }
      ]
    },
    {
      "cell_type": "code",
      "source": [
        "arr = np.array([i for i in range(10)])\n",
        "type(arr) # ndarray -> numpy를 통해서 생성된 배열"
      ],
      "metadata": {
        "colab": {
          "base_uri": "https://localhost:8080/"
        },
        "id": "OXXe2DAe84ZJ",
        "outputId": "0a7f1980-0aba-4da7-fb7d-6ce8f55370bd"
      },
      "execution_count": 8,
      "outputs": [
        {
          "output_type": "execute_result",
          "data": {
            "text/plain": [
              "numpy.ndarray"
            ]
          },
          "metadata": {},
          "execution_count": 8
        }
      ]
    },
    {
      "cell_type": "markdown",
      "source": [
        "# ndarray \n",
        "* 배열 객체 타입(자료형)\n",
        "* 리스트와 동일해 보이지만 차이가 많음\n",
        "\n",
        "|자료형|특징|\n",
        "|:-|:-|\n",
        "|리스트(list)|각각의 원소가 다른 자료형이 될 수 있음|\n",
        "|배열(array)|연속적인 메모리 배치를 가지기 때문에 모든 원소가 같은 자료형이어야 함<br>원소에 대한 접근과 반복문 실행이 빨라짐|"
      ],
      "metadata": {
        "id": "VsDWa24n9VQF"
      }
    },
    {
      "cell_type": "code",
      "source": [
        "import random # 임의의 수\n",
        "\n",
        "def average_python(n):\n",
        "  s = 0\n",
        "  for i in range(n): #n번 반복문\n",
        "    s += random.random() # 0~1 사이 수\n",
        "  #s =??\n",
        "  return s/n"
      ],
      "metadata": {
        "id": "81sXI7NpBAFD"
      },
      "execution_count": 9,
      "outputs": []
    },
    {
      "cell_type": "code",
      "source": [
        "%time average_python(100000)"
      ],
      "metadata": {
        "colab": {
          "base_uri": "https://localhost:8080/"
        },
        "id": "ThFaWO56BaeC",
        "outputId": "bab05548-cac0-4a82-f454-1d198c1b75b4"
      },
      "execution_count": 10,
      "outputs": [
        {
          "output_type": "stream",
          "name": "stdout",
          "text": [
            "CPU times: user 21.4 ms, sys: 0 ns, total: 21.4 ms\n",
            "Wall time: 25.8 ms\n"
          ]
        },
        {
          "output_type": "execute_result",
          "data": {
            "text/plain": [
              "0.4990400423837849"
            ]
          },
          "metadata": {},
          "execution_count": 10
        }
      ]
    },
    {
      "cell_type": "code",
      "source": [
        "def abeverage_numpy(n):\n",
        "  s = np.random.random(n)\n",
        "  return s.mean() # 평균"
      ],
      "metadata": {
        "id": "pAeH5_tbBfLf"
      },
      "execution_count": 13,
      "outputs": []
    },
    {
      "cell_type": "code",
      "source": [
        "%time abeverage_numpy(100000)\n",
        "%timeit abeverage_numpy(100000) #여러번 실행해서 비교 #넘파이가 더 빠름"
      ],
      "metadata": {
        "colab": {
          "base_uri": "https://localhost:8080/"
        },
        "id": "0eO0x5KqBr8i",
        "outputId": "105bcd1b-1b76-44a2-d059-763f20bd5185"
      },
      "execution_count": 14,
      "outputs": [
        {
          "output_type": "stream",
          "name": "stdout",
          "text": [
            "CPU times: user 1.12 ms, sys: 2.93 ms, total: 4.05 ms\n",
            "Wall time: 4.07 ms\n",
            "1.05 ms ± 76.8 µs per loop (mean ± std. dev. of 7 runs, 1000 loops each)\n"
          ]
        }
      ]
    },
    {
      "cell_type": "markdown",
      "source": [
        "## 백터화 연산(vectorized operation)\n"
      ],
      "metadata": {
        "id": "OyLBAmJ1BveZ"
      }
    },
    {
      "cell_type": "code",
      "source": [
        "a = [1,2,3]\n",
        "a"
      ],
      "metadata": {
        "colab": {
          "base_uri": "https://localhost:8080/"
        },
        "id": "cixntOkdCTlg",
        "outputId": "6074d4bb-a6a9-4f59-e55a-3de029609702"
      },
      "execution_count": 15,
      "outputs": [
        {
          "output_type": "execute_result",
          "data": {
            "text/plain": [
              "[1, 2, 3]"
            ]
          },
          "metadata": {},
          "execution_count": 15
        }
      ]
    },
    {
      "cell_type": "code",
      "source": [
        "# b리스트 = a 리스트 원소에 1씩 더해서\n",
        "# a+1 - 오류 발생\n",
        "# a*2 => 반복\n",
        "# 백터를 통해서 원소에 일괄적으로 더하고 곱하고, 합치는 과정이 가능하다. -> 반복문을 사용하지 않고 만들기"
      ],
      "metadata": {
        "id": "PGTpjRkFCZsc"
      },
      "execution_count": 16,
      "outputs": []
    },
    {
      "cell_type": "markdown",
      "source": [
        "* 배열객체(numpy.ndarray)는 **배열의 각 원소에 대한 반복 연산을 하나의 명령어**로 처리 = 백터화 연산"
      ],
      "metadata": {
        "id": "ZtuiX8rnC2y3"
      }
    },
    {
      "cell_type": "code",
      "source": [
        "data = [0,1,2,3,4,5,6,7,8,9] # for i in range(10)\n",
        "data"
      ],
      "metadata": {
        "colab": {
          "base_uri": "https://localhost:8080/"
        },
        "id": "nnf9cJF_DEau",
        "outputId": "150aca1f-76cc-419c-9a9b-808a25885a40"
      },
      "execution_count": 17,
      "outputs": [
        {
          "output_type": "execute_result",
          "data": {
            "text/plain": [
              "[0, 1, 2, 3, 4, 5, 6, 7, 8, 9]"
            ]
          },
          "metadata": {},
          "execution_count": 17
        }
      ]
    },
    {
      "cell_type": "code",
      "source": [
        "# 리스트 속에 나열된 데이터를 모두 2배 처리\n",
        "%%time\n",
        "answer = []\n",
        "for v in data:\n",
        "  answer.append(v*2) # 2배로 곱하기\n",
        "answer"
      ],
      "metadata": {
        "colab": {
          "base_uri": "https://localhost:8080/"
        },
        "id": "pbjlatZbDLib",
        "outputId": "9e08ca57-9ddf-4142-d977-ad0491b1d277"
      },
      "execution_count": 20,
      "outputs": [
        {
          "output_type": "stream",
          "name": "stdout",
          "text": [
            "CPU times: user 35 µs, sys: 0 ns, total: 35 µs\n",
            "Wall time: 41.7 µs\n"
          ]
        },
        {
          "output_type": "execute_result",
          "data": {
            "text/plain": [
              "[0, 2, 4, 6, 8, 10, 12, 14, 16, 18]"
            ]
          },
          "metadata": {},
          "execution_count": 20
        }
      ]
    },
    {
      "cell_type": "code",
      "source": [
        "%%time\n",
        "answer2 = [x * 2 for x in data]"
      ],
      "metadata": {
        "colab": {
          "base_uri": "https://localhost:8080/"
        },
        "id": "36napSj-DY2q",
        "outputId": "08020b6c-a21c-4eb1-c5c6-4ac4ccce8312"
      },
      "execution_count": 19,
      "outputs": [
        {
          "output_type": "stream",
          "name": "stdout",
          "text": [
            "CPU times: user 8 µs, sys: 0 ns, total: 8 µs\n",
            "Wall time: 14.1 µs\n"
          ]
        }
      ]
    },
    {
      "cell_type": "code",
      "source": [
        "# 백터화 연산\n",
        "%time\n",
        "x = np.array(data)\n",
        "x"
      ],
      "metadata": {
        "colab": {
          "base_uri": "https://localhost:8080/"
        },
        "id": "TtJ386srDjMq",
        "outputId": "2aae6d37-d650-4c86-b60c-537de8bcee07"
      },
      "execution_count": 21,
      "outputs": [
        {
          "output_type": "stream",
          "name": "stdout",
          "text": [
            "CPU times: user 10 µs, sys: 1e+03 ns, total: 11 µs\n",
            "Wall time: 14.5 µs\n"
          ]
        },
        {
          "output_type": "execute_result",
          "data": {
            "text/plain": [
              "array([0, 1, 2, 3, 4, 5, 6, 7, 8, 9])"
            ]
          },
          "metadata": {},
          "execution_count": 21
        }
      ]
    },
    {
      "cell_type": "code",
      "source": [
        "%time x*2"
      ],
      "metadata": {
        "colab": {
          "base_uri": "https://localhost:8080/"
        },
        "id": "HURY3cZTD6uV",
        "outputId": "a7d36448-c1ac-4922-abfc-c56f7ba73545"
      },
      "execution_count": 22,
      "outputs": [
        {
          "output_type": "stream",
          "name": "stdout",
          "text": [
            "CPU times: user 58 µs, sys: 5 µs, total: 63 µs\n",
            "Wall time: 68.4 µs\n"
          ]
        },
        {
          "output_type": "execute_result",
          "data": {
            "text/plain": [
              "array([ 0,  2,  4,  6,  8, 10, 12, 14, 16, 18])"
            ]
          },
          "metadata": {},
          "execution_count": 22
        }
      ]
    },
    {
      "cell_type": "code",
      "source": [
        "data *2"
      ],
      "metadata": {
        "colab": {
          "base_uri": "https://localhost:8080/"
        },
        "id": "usXD390tD9Px",
        "outputId": "4303fb3c-4033-4f6b-8639-d8de8dc7ea68"
      },
      "execution_count": 23,
      "outputs": [
        {
          "output_type": "execute_result",
          "data": {
            "text/plain": [
              "[0, 1, 2, 3, 4, 5, 6, 7, 8, 9, 0, 1, 2, 3, 4, 5, 6, 7, 8, 9]"
            ]
          },
          "metadata": {},
          "execution_count": 23
        }
      ]
    },
    {
      "cell_type": "code",
      "source": [
        "x/2, x+2,x^2, x%2, "
      ],
      "metadata": {
        "id": "TIspyOPXD-sU"
      },
      "execution_count": null,
      "outputs": []
    },
    {
      "cell_type": "markdown",
      "source": [
        "* 벡터화 연산은 사칙연산뿐만 아니라 비교 연산과 논리 연산을 포함한 모든 종류의 수학 연산에 대해 적용"
      ],
      "metadata": {
        "id": "KNSAL3nPEROj"
      }
    },
    {
      "cell_type": "code",
      "source": [
        "a = np.array([1,2,3])\n",
        "b = np.array([10,20,30]) # alt + shift+ 위아래 방향키 => 복사\n",
        "a,b # 비교 연산"
      ],
      "metadata": {
        "colab": {
          "base_uri": "https://localhost:8080/"
        },
        "id": "JoZJQ5YQEYFw",
        "outputId": "bc7a5738-4dec-4506-9e9a-275ea3548696"
      },
      "execution_count": 24,
      "outputs": [
        {
          "output_type": "execute_result",
          "data": {
            "text/plain": [
              "(array([1, 2, 3]), array([10, 20, 30]))"
            ]
          },
          "metadata": {},
          "execution_count": 24
        }
      ]
    },
    {
      "cell_type": "code",
      "source": [
        "2*a +b  #리스트와 차이점, 리스트는 2번 반복이었을 것 # 산술연산"
      ],
      "metadata": {
        "colab": {
          "base_uri": "https://localhost:8080/"
        },
        "id": "xMwFicMQE5jq",
        "outputId": "e03c1bac-ac36-44e3-e295-4b4d1306c048"
      },
      "execution_count": 25,
      "outputs": [
        {
          "output_type": "execute_result",
          "data": {
            "text/plain": [
              "array([12, 24, 36])"
            ]
          },
          "metadata": {},
          "execution_count": 25
        }
      ]
    },
    {
      "cell_type": "code",
      "source": [
        "a == 2, b>10 #비교 연산"
      ],
      "metadata": {
        "colab": {
          "base_uri": "https://localhost:8080/"
        },
        "id": "3qEeNh0oFJuE",
        "outputId": "bb8c1a99-f9df-4b29-a256-ea4eba9d5928"
      },
      "execution_count": 26,
      "outputs": [
        {
          "output_type": "execute_result",
          "data": {
            "text/plain": [
              "(array([False,  True, False]), array([False,  True,  True]))"
            ]
          },
          "metadata": {},
          "execution_count": 26
        }
      ]
    },
    {
      "cell_type": "code",
      "source": [
        "(a ==2) & (b>10) # &: and 연산자 -> (같은 위치의 원소가)둘다 true인 경우"
      ],
      "metadata": {
        "colab": {
          "base_uri": "https://localhost:8080/"
        },
        "id": "IdqnZKEtE-LO",
        "outputId": "b676d3ae-cae8-4f63-f779-b699c2b32cfc"
      },
      "execution_count": 27,
      "outputs": [
        {
          "output_type": "execute_result",
          "data": {
            "text/plain": [
              "array([False,  True, False])"
            ]
          },
          "metadata": {},
          "execution_count": 27
        }
      ]
    },
    {
      "cell_type": "code",
      "source": [
        "(a ==2) | (b>10) # |: or 연산자 -> (같은 위치의 원소 중) 하나가 true인 경우"
      ],
      "metadata": {
        "colab": {
          "base_uri": "https://localhost:8080/"
        },
        "id": "l03yqY4WFSa_",
        "outputId": "43cda2c4-832b-4eb6-9ddf-85139c493fad"
      },
      "execution_count": 28,
      "outputs": [
        {
          "output_type": "execute_result",
          "data": {
            "text/plain": [
              "array([False,  True,  True])"
            ]
          },
          "metadata": {},
          "execution_count": 28
        }
      ]
    },
    {
      "cell_type": "markdown",
      "source": [
        "## 2차원 배열\n",
        "-> ndarray => n dimession array => 다차원배열의 자료구조를 지원\n",
        "* 2차원 배열: 행령(matrix)\n",
        "* 가로줄: 행(row)\n",
        "* 세로줄: 열(colum)\n",
        "> 엑셀 스프레드시트와 같은 형태의 배열 -> pandas\n",
        "list of list / 리스트의 리스트 -> 2차원 배열<br>\n",
        "list of list of list / 리스트의 리스트의 리스트 -> 3차원 배열<br>\n",
        "\n",
        "\n"
      ],
      "metadata": {
        "id": "e8BwG-rdFrDL"
      }
    },
    {
      "cell_type": "code",
      "source": [
        "m = np.array([\n",
        "    [0,1,2],\n",
        "    [3,4,5]\n",
        "    ]) # 2 x 3 행렬 / m x n m : m 행의 개수, n 령의 개수\n",
        "m"
      ],
      "metadata": {
        "colab": {
          "base_uri": "https://localhost:8080/"
        },
        "id": "PPs6A6rwFbgI",
        "outputId": "a8c01863-6ad9-4162-98a5-023faf08f539"
      },
      "execution_count": 29,
      "outputs": [
        {
          "output_type": "execute_result",
          "data": {
            "text/plain": [
              "array([[0, 1, 2],\n",
              "       [3, 4, 5]])"
            ]
          },
          "metadata": {},
          "execution_count": 29
        }
      ]
    },
    {
      "cell_type": "code",
      "source": [
        "# 행의 개수, 열의 개수\n",
        "print(\"행의 개수: \",len(m)) # 행의 개수 - 가장 겉에 있는 리스트의 원소 개수\n",
        "print(\"열의 개수: \",len(m[0])) # 열의 개수 - 가장 안에 있는 리스트의 원소 개수"
      ],
      "metadata": {
        "colab": {
          "base_uri": "https://localhost:8080/"
        },
        "id": "Wpil4wXsHFkK",
        "outputId": "14a741dd-b688-452d-9843-e36940a526f7"
      },
      "execution_count": 31,
      "outputs": [
        {
          "output_type": "stream",
          "name": "stdout",
          "text": [
            "행의 개수:  2\n",
            "열의 개수:  3\n"
          ]
        }
      ]
    },
    {
      "cell_type": "markdown",
      "source": [
        "✅ :을 누르면 설정가능\n",
        "윈도우 + .=> 특수문자\n",
        "# ✌ 연습문제1 \n",
        "10 20 30 40 <br>\n",
        "50 60 70 80"
      ],
      "metadata": {
        "id": "1ExVZDGyHlIC"
      }
    },
    {
      "cell_type": "code",
      "source": [
        "#@title 연습문제1\n",
        "\n",
        "# 리스트 업, 백터 연산 사용 등\n",
        "\n",
        "# 1. 데이터 입력해서 넣기\n",
        "li1 = [[10,20,30,40],[50,60,70,80]]\n",
        "li1"
      ],
      "metadata": {
        "colab": {
          "base_uri": "https://localhost:8080/"
        },
        "id": "xUHMDMNAHRS2",
        "outputId": "0678b070-e14e-4b62-e641-8b359ad73ec1"
      },
      "execution_count": 34,
      "outputs": [
        {
          "output_type": "execute_result",
          "data": {
            "text/plain": [
              "array([[10, 20, 30, 40],\n",
              "       [50, 60, 70, 80]])"
            ]
          },
          "metadata": {},
          "execution_count": 34
        }
      ]
    },
    {
      "cell_type": "code",
      "source": [
        "# 2,  np 이용\n",
        "li2 = np.array([[10,20,30,40],[50,60,70,80]])\n",
        "np.array(li2)"
      ],
      "metadata": {
        "colab": {
          "base_uri": "https://localhost:8080/"
        },
        "id": "k8mhstKJJPaY",
        "outputId": "528f6825-6545-4c78-9738-37de29dac701"
      },
      "execution_count": 35,
      "outputs": [
        {
          "output_type": "execute_result",
          "data": {
            "text/plain": [
              "array([[10, 20, 30, 40],\n",
              "       [50, 60, 70, 80]])"
            ]
          },
          "metadata": {},
          "execution_count": 35
        }
      ]
    },
    {
      "cell_type": "code",
      "source": [
        "# 3. 백터화 연산\n",
        "li3 = np.array([[1,2,3,4],[5,6,7,8]])\n",
        "np.array(li3) *10"
      ],
      "metadata": {
        "colab": {
          "base_uri": "https://localhost:8080/"
        },
        "id": "wryVA2Y1JjCF",
        "outputId": "3d9cbbc5-5d98-4b38-cf9c-5aa784d703c7"
      },
      "execution_count": 38,
      "outputs": [
        {
          "output_type": "execute_result",
          "data": {
            "text/plain": [
              "array([[10, 20, 30, 40],\n",
              "       [50, 60, 70, 80]])"
            ]
          },
          "metadata": {},
          "execution_count": 38
        }
      ]
    },
    {
      "cell_type": "markdown",
      "source": [
        "## 3차원 배열"
      ],
      "metadata": {
        "id": "jJFR-NBoJ_6D"
      }
    },
    {
      "cell_type": "code",
      "source": [
        "t = np.array([[[1,2,3,4],[5,6,7,8],[9,10,11,12]],[[11,12,13,14],[15,16,17,18],[19,20,21,22]]])\n",
        "t # 2 x 3 x 4 배열 (3차원 배열)"
      ],
      "metadata": {
        "colab": {
          "base_uri": "https://localhost:8080/"
        },
        "id": "e17-710aKCVF",
        "outputId": "8593578e-8aa8-4ecc-e7f5-e5c1cb237589"
      },
      "execution_count": 39,
      "outputs": [
        {
          "output_type": "execute_result",
          "data": {
            "text/plain": [
              "array([[[ 1,  2,  3,  4],\n",
              "        [ 5,  6,  7,  8],\n",
              "        [ 9, 10, 11, 12]],\n",
              "\n",
              "       [[11, 12, 13, 14],\n",
              "        [15, 16, 17, 18],\n",
              "        [19, 20, 21, 22]]])"
            ]
          },
          "metadata": {},
          "execution_count": 39
        }
      ]
    },
    {
      "cell_type": "code",
      "source": [
        "# 깊이 행 열\n",
        "print(\"깊이: \",len(t)) \n",
        "print(\"행: \",len(t[0])) \n",
        "print(\"열: \",len(t[0][0])) # 이미지를 위해서 rgb 도 3개 필요!"
      ],
      "metadata": {
        "colab": {
          "base_uri": "https://localhost:8080/"
        },
        "id": "8AE9h4ZfKeMx",
        "outputId": "92006867-f14d-4d0a-dc6d-196f42987bcd"
      },
      "execution_count": 45,
      "outputs": [
        {
          "output_type": "stream",
          "name": "stdout",
          "text": [
            "깊이:  2\n",
            "행:  3\n",
            "열:  4\n"
          ]
        }
      ]
    },
    {
      "cell_type": "markdown",
      "source": [
        "## 배열의 파원과 크기 알아내기\n",
        "* ndim, shape **속성** 사용\n",
        "- 메소드는 함수, () 사용\n",
        "- 속성은 이름으로 사용가능\n",
        "* ndim: 배열의 차원\n",
        "* shape: 배열의 크기"
      ],
      "metadata": {
        "id": "A9hbtPAoLF-j"
      }
    },
    {
      "cell_type": "code",
      "source": [
        "a.ndim, a.shape # 1차원 배열"
      ],
      "metadata": {
        "colab": {
          "base_uri": "https://localhost:8080/"
        },
        "id": "T_RjGAz7K_nU",
        "outputId": "d7000379-4307-457d-8f42-a591675eedd7"
      },
      "execution_count": 42,
      "outputs": [
        {
          "output_type": "execute_result",
          "data": {
            "text/plain": [
              "(1, (3,))"
            ]
          },
          "metadata": {},
          "execution_count": 42
        }
      ]
    },
    {
      "cell_type": "code",
      "source": [
        "m.ndim, m.shape"
      ],
      "metadata": {
        "colab": {
          "base_uri": "https://localhost:8080/"
        },
        "id": "EUrWrkKILW4j",
        "outputId": "506db34f-5201-464b-b626-2b67cd20be68"
      },
      "execution_count": 43,
      "outputs": [
        {
          "output_type": "execute_result",
          "data": {
            "text/plain": [
              "(2, (2, 3))"
            ]
          },
          "metadata": {},
          "execution_count": 43
        }
      ]
    },
    {
      "cell_type": "code",
      "source": [
        "t.ndim, t.shape"
      ],
      "metadata": {
        "colab": {
          "base_uri": "https://localhost:8080/"
        },
        "id": "AyzNeWxtLjgX",
        "outputId": "dcb03067-9177-46b8-de08-ddbe4377d493"
      },
      "execution_count": 44,
      "outputs": [
        {
          "output_type": "execute_result",
          "data": {
            "text/plain": [
              "(3, (2, 3, 4))"
            ]
          },
          "metadata": {},
          "execution_count": 44
        }
      ]
    },
    {
      "cell_type": "markdown",
      "source": [
        "## 배열의 복사\n",
        "* 얕은 복사(Shallow Copy)\n",
        "* 깊은 복사(Deep Copy)"
      ],
      "metadata": {
        "id": "hZns480OLlt_"
      }
    },
    {
      "cell_type": "code",
      "source": [
        "1, '',0.1 # 원시 자료형 - 그대로 메모리에 기록된다 \n",
        "# 변수\n",
        "# 1. 상수와 대비되는 변수 - 상수는 변화가 없지만 변수는 값이 변할 수 있다.\n",
        "# 2. 연결관계를 보여줌\n",
        "a = [1,2,3]\n",
        "a"
      ],
      "metadata": {
        "colab": {
          "base_uri": "https://localhost:8080/"
        },
        "id": "JkO86GYAPf2u",
        "outputId": "21e4b326-8f39-4e38-acab-1cf5f96b9d75"
      },
      "execution_count": 46,
      "outputs": [
        {
          "output_type": "execute_result",
          "data": {
            "text/plain": [
              "[1, 2, 3]"
            ]
          },
          "metadata": {},
          "execution_count": 46
        }
      ]
    },
    {
      "cell_type": "code",
      "source": [
        "b = a\n",
        "b"
      ],
      "metadata": {
        "colab": {
          "base_uri": "https://localhost:8080/"
        },
        "id": "aR4RastkQEke",
        "outputId": "e5ea6b99-8f98-4d18-bda3-a0776cbdd766"
      },
      "execution_count": 47,
      "outputs": [
        {
          "output_type": "execute_result",
          "data": {
            "text/plain": [
              "[1, 2, 3]"
            ]
          },
          "metadata": {},
          "execution_count": 47
        }
      ]
    },
    {
      "cell_type": "code",
      "source": [
        "a.append(4)\n",
        "a"
      ],
      "metadata": {
        "colab": {
          "base_uri": "https://localhost:8080/"
        },
        "id": "a7MduE31QHm9",
        "outputId": "0698e71d-ca1b-406e-b4a2-092c128062d1"
      },
      "execution_count": 48,
      "outputs": [
        {
          "output_type": "execute_result",
          "data": {
            "text/plain": [
              "[1, 2, 3, 4]"
            ]
          },
          "metadata": {},
          "execution_count": 48
        }
      ]
    },
    {
      "cell_type": "code",
      "source": [
        "b # 얕은 복사 - a의 주소값을 받아서 4가 추가됨, 백업을 했다면 백업데이터도 변형이 된 것!!!"
      ],
      "metadata": {
        "colab": {
          "base_uri": "https://localhost:8080/"
        },
        "id": "7tNv4EEMQJrI",
        "outputId": "80964f7a-6ed6-4bb9-de87-895c15ac871f"
      },
      "execution_count": 49,
      "outputs": [
        {
          "output_type": "execute_result",
          "data": {
            "text/plain": [
              "[1, 2, 3, 4]"
            ]
          },
          "metadata": {},
          "execution_count": 49
        }
      ]
    },
    {
      "cell_type": "code",
      "source": [
        "# 깊은 복사: 아예 새로 만들어줘서 연결관계 끊기\n",
        "\n",
        "c = ['a','b','c'] # join은 문자만?!\n",
        "c"
      ],
      "metadata": {
        "colab": {
          "base_uri": "https://localhost:8080/"
        },
        "id": "NBUqlXVDQQ27",
        "outputId": "f90da6d6-b0f3-4b1c-d817-f0a73a3c92e7"
      },
      "execution_count": 50,
      "outputs": [
        {
          "output_type": "execute_result",
          "data": {
            "text/plain": [
              "['a', 'b', 'c']"
            ]
          },
          "metadata": {},
          "execution_count": 50
        }
      ]
    },
    {
      "cell_type": "code",
      "source": [
        "d = \" \".join(c).split() # 주소를 옮기는 것이 아니라 새로운 데이터를 메모리에 할당하고 관계를 끊음\n",
        "d"
      ],
      "metadata": {
        "colab": {
          "base_uri": "https://localhost:8080/"
        },
        "id": "lTeJi8WqQpeH",
        "outputId": "0f846432-2e8b-4014-c249-9e95073267fa"
      },
      "execution_count": 51,
      "outputs": [
        {
          "output_type": "execute_result",
          "data": {
            "text/plain": [
              "['a', 'b', 'c']"
            ]
          },
          "metadata": {},
          "execution_count": 51
        }
      ]
    },
    {
      "cell_type": "code",
      "source": [
        "c.append('d')\n",
        "c"
      ],
      "metadata": {
        "colab": {
          "base_uri": "https://localhost:8080/"
        },
        "id": "u5NmHxceQviO",
        "outputId": "5da49f58-6daf-436c-bf39-24aced689662"
      },
      "execution_count": 52,
      "outputs": [
        {
          "output_type": "execute_result",
          "data": {
            "text/plain": [
              "['a', 'b', 'c', 'd']"
            ]
          },
          "metadata": {},
          "execution_count": 52
        }
      ]
    },
    {
      "cell_type": "code",
      "source": [
        "d"
      ],
      "metadata": {
        "colab": {
          "base_uri": "https://localhost:8080/"
        },
        "id": "DIWNQJ3lQyuP",
        "outputId": "5b0673e6-3fdd-4f82-c13e-677256a42b03"
      },
      "execution_count": 53,
      "outputs": [
        {
          "output_type": "execute_result",
          "data": {
            "text/plain": [
              "['a', 'b', 'c']"
            ]
          },
          "metadata": {},
          "execution_count": 53
        }
      ]
    },
    {
      "cell_type": "code",
      "source": [
        "arr = np.array([1,2,3,4])\n",
        "arr"
      ],
      "metadata": {
        "colab": {
          "base_uri": "https://localhost:8080/"
        },
        "id": "uGGmA6xOQ0vO",
        "outputId": "e328c958-6fe4-40b3-f4df-21d3bea981b7"
      },
      "execution_count": 54,
      "outputs": [
        {
          "output_type": "execute_result",
          "data": {
            "text/plain": [
              "array([1, 2, 3, 4])"
            ]
          },
          "metadata": {},
          "execution_count": 54
        }
      ]
    },
    {
      "cell_type": "code",
      "source": [
        "arr2 = arr\n",
        "arr2"
      ],
      "metadata": {
        "colab": {
          "base_uri": "https://localhost:8080/"
        },
        "id": "9kSnaN-7RFBm",
        "outputId": "1a6a5c3a-b616-4760-d979-1a0cde977f3c"
      },
      "execution_count": 60,
      "outputs": [
        {
          "output_type": "execute_result",
          "data": {
            "text/plain": [
              "array([1000,    2,    3,    4])"
            ]
          },
          "metadata": {},
          "execution_count": 60
        }
      ]
    },
    {
      "cell_type": "code",
      "source": [
        "arr[0] = 10\n",
        "arr2 # 아직 연결된 상태, 원소가 바뀜"
      ],
      "metadata": {
        "colab": {
          "base_uri": "https://localhost:8080/"
        },
        "id": "GZHrzxJ3RI8v",
        "outputId": "e53ef13d-30c2-4d6a-e486-1f9887e7c1b8"
      },
      "execution_count": 61,
      "outputs": [
        {
          "output_type": "execute_result",
          "data": {
            "text/plain": [
              "array([10,  2,  3,  4])"
            ]
          },
          "metadata": {},
          "execution_count": 61
        }
      ]
    },
    {
      "cell_type": "code",
      "source": [
        "arr2.view() # 원본과 연결된 사본"
      ],
      "metadata": {
        "colab": {
          "base_uri": "https://localhost:8080/"
        },
        "id": "AisxyhgcRMfw",
        "outputId": "1a21caf7-65ce-40af-fb16-2f48699f3130"
      },
      "execution_count": 62,
      "outputs": [
        {
          "output_type": "execute_result",
          "data": {
            "text/plain": [
              "array([10,  2,  3,  4])"
            ]
          },
          "metadata": {},
          "execution_count": 62
        }
      ]
    },
    {
      "cell_type": "code",
      "source": [
        "arr3 = arr.copy() # copy 함수 이용해서 관계를 끊음 # 함수는 ()있고 속성은 괄호 없ㅇ므\n",
        "arr2"
      ],
      "metadata": {
        "colab": {
          "base_uri": "https://localhost:8080/"
        },
        "id": "eeuPvp1_RX4X",
        "outputId": "b7892b9b-8a05-4c9e-c094-37ce1c819808"
      },
      "execution_count": 63,
      "outputs": [
        {
          "output_type": "execute_result",
          "data": {
            "text/plain": [
              "array([10,  2,  3,  4])"
            ]
          },
          "metadata": {},
          "execution_count": 63
        }
      ]
    },
    {
      "cell_type": "code",
      "source": [
        "arr[0] = 100\n",
        "arr3 # 아직 연결된 상태, 원소가 바뀜"
      ],
      "metadata": {
        "colab": {
          "base_uri": "https://localhost:8080/"
        },
        "id": "9JJ1mTEXRk6t",
        "outputId": "e2947eb7-ea55-4c8b-8670-cc36174cfa78"
      },
      "execution_count": 64,
      "outputs": [
        {
          "output_type": "execute_result",
          "data": {
            "text/plain": [
              "array([10,  2,  3,  4])"
            ]
          },
          "metadata": {},
          "execution_count": 64
        }
      ]
    },
    {
      "cell_type": "code",
      "source": [
        "arr3.view() # 원본과 연결된 사본"
      ],
      "metadata": {
        "colab": {
          "base_uri": "https://localhost:8080/"
        },
        "id": "zxY9qJjRRpPx",
        "outputId": "63be2233-07fc-4947-fbd3-eb7999bedb89"
      },
      "execution_count": 69,
      "outputs": [
        {
          "output_type": "execute_result",
          "data": {
            "text/plain": [
              "array([10,  2,  3,  4])"
            ]
          },
          "metadata": {},
          "execution_count": 69
        }
      ]
    },
    {
      "cell_type": "code",
      "source": [
        "print(arr2.base) # 배열의 데이터 소유 여부"
      ],
      "metadata": {
        "colab": {
          "base_uri": "https://localhost:8080/"
        },
        "id": "UOAC6nwZR6GP",
        "outputId": "cb79f03b-faaf-41fb-bcf2-d889c8417cf6"
      },
      "execution_count": 65,
      "outputs": [
        {
          "output_type": "stream",
          "name": "stdout",
          "text": [
            "None\n"
          ]
        }
      ]
    },
    {
      "cell_type": "code",
      "source": [
        "print(arr3.base) # 배열의 데이터 소유 여부"
      ],
      "metadata": {
        "colab": {
          "base_uri": "https://localhost:8080/"
        },
        "id": "tKTqUAJtR8dU",
        "outputId": "2c11925e-99ca-4656-97fe-b37a62e0cd84"
      },
      "execution_count": 68,
      "outputs": [
        {
          "output_type": "stream",
          "name": "stdout",
          "text": [
            "None\n"
          ]
        }
      ]
    },
    {
      "cell_type": "code",
      "source": [
        "arr = np.array([1,2,3,4,5])\n",
        "\n",
        "x = arr.copy()\n",
        "y = arr.view()\n",
        "\n",
        "print(x.base) # 배열의 데이터 소유 여부 - 깊은 복사?\n",
        "print(y.base) # 배열의 데이터 소유 여부 - 얕은 복사?"
      ],
      "metadata": {
        "colab": {
          "base_uri": "https://localhost:8080/"
        },
        "id": "FwnoF7TuSFWv",
        "outputId": "850f773d-af54-414e-bf52-d7140eec5bc2"
      },
      "execution_count": 67,
      "outputs": [
        {
          "output_type": "stream",
          "name": "stdout",
          "text": [
            "None\n",
            "[1 2 3 4 5]\n"
          ]
        }
      ]
    },
    {
      "cell_type": "markdown",
      "source": [
        "## 배열의 인덱싱\n"
      ],
      "metadata": {
        "id": "0rB4NZvrSxPG"
      }
    },
    {
      "cell_type": "code",
      "source": [
        "a = [1,2,3,4,5]\n"
      ],
      "metadata": {
        "id": "mZHvPdpiS5uq"
      },
      "execution_count": 70,
      "outputs": []
    },
    {
      "cell_type": "code",
      "source": [
        "# a에서 3을 가져오고 싶다\n",
        "a[2]"
      ],
      "metadata": {
        "colab": {
          "base_uri": "https://localhost:8080/"
        },
        "id": "nIQJPALhS9lX",
        "outputId": "3afbcf85-a8f8-464b-92f9-0dec115293ca"
      },
      "execution_count": 71,
      "outputs": [
        {
          "output_type": "execute_result",
          "data": {
            "text/plain": [
              "3"
            ]
          },
          "metadata": {},
          "execution_count": 71
        }
      ]
    },
    {
      "cell_type": "code",
      "source": [
        "a[-3]"
      ],
      "metadata": {
        "colab": {
          "base_uri": "https://localhost:8080/"
        },
        "id": "SNLYj_YATDf9",
        "outputId": "83eedd8b-5f2b-44f8-f2b3-5884522d24b8"
      },
      "execution_count": 72,
      "outputs": [
        {
          "output_type": "execute_result",
          "data": {
            "text/plain": [
              "3"
            ]
          },
          "metadata": {},
          "execution_count": 72
        }
      ]
    },
    {
      "cell_type": "markdown",
      "source": [
        "## 일차원 배열 인덱싱\n",
        "* 리스트의 인덱싱과 같은"
      ],
      "metadata": {
        "id": "KAOF_zXOTEjv"
      }
    },
    {
      "cell_type": "code",
      "source": [
        "a = np.array([0,1,2,3,4])\n",
        "a[2], a[-1]"
      ],
      "metadata": {
        "colab": {
          "base_uri": "https://localhost:8080/"
        },
        "id": "TojmhuuLTN5L",
        "outputId": "09763df1-de1a-41dc-f931-9812042baea2"
      },
      "execution_count": 73,
      "outputs": [
        {
          "output_type": "execute_result",
          "data": {
            "text/plain": [
              "(2, 4)"
            ]
          },
          "metadata": {},
          "execution_count": 73
        }
      ]
    },
    {
      "cell_type": "markdown",
      "source": [
        "## 다차원 배열 인덱싱\n",
        "* 콤마(comma, ',') 접근\n",
        "* 콤마로 구분된 차원을 축(axis)이라고 함\n",
        "* 그래프의 x출, y출"
      ],
      "metadata": {
        "id": "fD5UjX9gTppl"
      }
    },
    {
      "cell_type": "code",
      "source": [
        "b = np.array([[0,1,2],[3,4,5]])\n",
        "b"
      ],
      "metadata": {
        "colab": {
          "base_uri": "https://localhost:8080/"
        },
        "id": "XL9aa1u7UJVb",
        "outputId": "ccffad4d-9f90-43bd-b716-6c6873007a35"
      },
      "execution_count": 75,
      "outputs": [
        {
          "output_type": "execute_result",
          "data": {
            "text/plain": [
              "array([[0, 1, 2],\n",
              "       [3, 4, 5]])"
            ]
          },
          "metadata": {},
          "execution_count": 75
        }
      ]
    },
    {
      "cell_type": "code",
      "source": [
        "b.shape"
      ],
      "metadata": {
        "colab": {
          "base_uri": "https://localhost:8080/"
        },
        "id": "fjZF3uZ1UN3m",
        "outputId": "40f2cef7-9864-489e-b0aa-1aebd58903c8"
      },
      "execution_count": 76,
      "outputs": [
        {
          "output_type": "execute_result",
          "data": {
            "text/plain": [
              "(2, 3)"
            ]
          },
          "metadata": {},
          "execution_count": 76
        }
      ]
    },
    {
      "cell_type": "code",
      "source": [
        "b[0,0] # 첫번째 행의 첫번째 열"
      ],
      "metadata": {
        "colab": {
          "base_uri": "https://localhost:8080/"
        },
        "id": "KcINUFHVUWEd",
        "outputId": "15ee7f0e-1272-4e76-f84e-c707ad4dfe09"
      },
      "execution_count": 77,
      "outputs": [
        {
          "output_type": "execute_result",
          "data": {
            "text/plain": [
              "0"
            ]
          },
          "metadata": {},
          "execution_count": 77
        }
      ]
    },
    {
      "cell_type": "code",
      "source": [
        "b[-1,-1] # 마지막 행의 마지막 열"
      ],
      "metadata": {
        "colab": {
          "base_uri": "https://localhost:8080/"
        },
        "id": "dudomIZAUf7d",
        "outputId": "25f3d671-8b16-46fe-f3cb-ed8a7a0dc9fe"
      },
      "execution_count": 78,
      "outputs": [
        {
          "output_type": "execute_result",
          "data": {
            "text/plain": [
              "5"
            ]
          },
          "metadata": {},
          "execution_count": 78
        }
      ]
    },
    {
      "cell_type": "markdown",
      "source": [
        "## 배열의 슬라이싱\n"
      ],
      "metadata": {
        "id": "fVJdZJIIUvak"
      }
    },
    {
      "cell_type": "code",
      "source": [
        "x = [1,2,3,4]\n",
        "x[1:3] # a:b => a는 포함,b제외(b-1까지 출력)"
      ],
      "metadata": {
        "colab": {
          "base_uri": "https://localhost:8080/"
        },
        "id": "RYrqpgJ0Uyuh",
        "outputId": "c9675408-dec5-480a-98f5-8d7ab011b489"
      },
      "execution_count": 79,
      "outputs": [
        {
          "output_type": "execute_result",
          "data": {
            "text/plain": [
              "[2, 3]"
            ]
          },
          "metadata": {},
          "execution_count": 79
        }
      ]
    },
    {
      "cell_type": "code",
      "source": [
        "x[-3:-1]"
      ],
      "metadata": {
        "colab": {
          "base_uri": "https://localhost:8080/"
        },
        "id": "Hbfu4cP6U-Zb",
        "outputId": "8ea06ab5-d428-4902-ab71-210463f0cd1e"
      },
      "execution_count": 81,
      "outputs": [
        {
          "output_type": "execute_result",
          "data": {
            "text/plain": [
              "[2, 3]"
            ]
          },
          "metadata": {},
          "execution_count": 81
        }
      ]
    },
    {
      "cell_type": "code",
      "source": [
        "x[:-1]"
      ],
      "metadata": {
        "colab": {
          "base_uri": "https://localhost:8080/"
        },
        "id": "dQlkO2K1VBVU",
        "outputId": "3cc6c6a3-a0a4-4fca-80cf-468f5d9925ef"
      },
      "execution_count": 82,
      "outputs": [
        {
          "output_type": "execute_result",
          "data": {
            "text/plain": [
              "[1, 2, 3]"
            ]
          },
          "metadata": {},
          "execution_count": 82
        }
      ]
    },
    {
      "cell_type": "markdown",
      "source": [
        "* 다차원 배열의 원소 중 2개 이상의(복수개)를 접근할 대 일반적인 파이썬 슬라이싱과 콤마를 같이 사용\n"
      ],
      "metadata": {
        "id": "2j2-rmLUVE-C"
      }
    },
    {
      "cell_type": "code",
      "source": [
        "a = np.array([[0,1,2,3],[4,5,6,7]])\n",
        "a"
      ],
      "metadata": {
        "colab": {
          "base_uri": "https://localhost:8080/"
        },
        "id": "pnusMc4YVVQ9",
        "outputId": "0ddd8ef2-b312-4952-c406-eaa20f6a924e"
      },
      "execution_count": 83,
      "outputs": [
        {
          "output_type": "execute_result",
          "data": {
            "text/plain": [
              "array([[0, 1, 2, 3],\n",
              "       [4, 5, 6, 7]])"
            ]
          },
          "metadata": {},
          "execution_count": 83
        }
      ]
    },
    {
      "cell_type": "code",
      "source": [
        "a[0, :] # 첫번째 행 전체"
      ],
      "metadata": {
        "colab": {
          "base_uri": "https://localhost:8080/"
        },
        "id": "USU7MpFBVaq7",
        "outputId": "c0f9811a-5930-479b-f326-a5155482f766"
      },
      "execution_count": 84,
      "outputs": [
        {
          "output_type": "execute_result",
          "data": {
            "text/plain": [
              "array([0, 1, 2, 3])"
            ]
          },
          "metadata": {},
          "execution_count": 84
        }
      ]
    },
    {
      "cell_type": "code",
      "source": [
        "a[:,0] # 첫번째 열 전체"
      ],
      "metadata": {
        "colab": {
          "base_uri": "https://localhost:8080/"
        },
        "id": "fH6CabL3VfET",
        "outputId": "93a71379-681f-4655-c11c-178f90e0dcb5"
      },
      "execution_count": 85,
      "outputs": [
        {
          "output_type": "execute_result",
          "data": {
            "text/plain": [
              "array([0, 4])"
            ]
          },
          "metadata": {},
          "execution_count": 85
        }
      ]
    },
    {
      "cell_type": "code",
      "source": [
        "a[1:,1:]  # 1행 1열부터 출력"
      ],
      "metadata": {
        "colab": {
          "base_uri": "https://localhost:8080/"
        },
        "id": "jUz0DPI3Vy-d",
        "outputId": "b5c639c9-2287-466f-dae0-99d21f8e03eb"
      },
      "execution_count": 96,
      "outputs": [
        {
          "output_type": "execute_result",
          "data": {
            "text/plain": [
              "array([[5, 6, 7]])"
            ]
          },
          "metadata": {},
          "execution_count": 96
        }
      ]
    },
    {
      "cell_type": "code",
      "source": [
        "a[:2,:2] "
      ],
      "metadata": {
        "colab": {
          "base_uri": "https://localhost:8080/"
        },
        "id": "sBpBr5wpVnwl",
        "outputId": "107eb91b-42d2-4f2f-d7f9-a76420498470"
      },
      "execution_count": 86,
      "outputs": [
        {
          "output_type": "execute_result",
          "data": {
            "text/plain": [
              "array([[0, 1],\n",
              "       [4, 5]])"
            ]
          },
          "metadata": {},
          "execution_count": 86
        }
      ]
    },
    {
      "cell_type": "markdown",
      "source": [
        "## 🦕 연습문제2\n",
        "```\n",
        "m = np.array([[0,  1,  2,  3,  4],\n",
        "              [5,  6,  7,  8,  9],\n",
        "              [10, 11, 12, 13, 14]])\n",
        "m\n",
        "```\n",
        "1. 값 7을 인덱싱\n",
        "1. 값 14을 인덱싱\n",
        "1. 배열 [6,7]을 슬라이싱\n",
        "1. 배열 [7,12]을 슬라이싱\n",
        "1. 배열 [[3,4],[8,9]]을 슬라이싱\n",
        "\n"
      ],
      "metadata": {
        "id": "XwMnKpneVqm9"
      }
    },
    {
      "cell_type": "code",
      "source": [
        "m = np.array([[0,  1,  2,  3,  4],\n",
        "              [5,  6,  7,  8,  9],\n",
        "              [10, 11, 12, 13, 14]])\n",
        "m"
      ],
      "metadata": {
        "colab": {
          "base_uri": "https://localhost:8080/"
        },
        "id": "eqBL--b-Wc_0",
        "outputId": "dddd0d42-8c23-4f97-ecd5-122c45dccd53"
      },
      "execution_count": 88,
      "outputs": [
        {
          "output_type": "execute_result",
          "data": {
            "text/plain": [
              "array([[ 0,  1,  2,  3,  4],\n",
              "       [ 5,  6,  7,  8,  9],\n",
              "       [10, 11, 12, 13, 14]])"
            ]
          },
          "metadata": {},
          "execution_count": 88
        }
      ]
    },
    {
      "cell_type": "code",
      "source": [
        "m.shape # 3행 5열"
      ],
      "metadata": {
        "colab": {
          "base_uri": "https://localhost:8080/"
        },
        "id": "7sSK3iM-tuV-",
        "outputId": "662700b9-ca93-4023-ef48-5578f3e3ff6b"
      },
      "execution_count": 97,
      "outputs": [
        {
          "output_type": "execute_result",
          "data": {
            "text/plain": [
              "(3, 5)"
            ]
          },
          "metadata": {},
          "execution_count": 97
        }
      ]
    },
    {
      "cell_type": "code",
      "source": [
        "# 1. 값 7을 인덱싱\n",
        "m[1,2]\n",
        "m[-2,-3]\n",
        "m[1,-3]\n",
        "m[-2,2]"
      ],
      "metadata": {
        "colab": {
          "base_uri": "https://localhost:8080/"
        },
        "id": "OEIpWsZvWeFw",
        "outputId": "3c6cae8e-805c-46fd-9ecc-d28dea508440"
      },
      "execution_count": 99,
      "outputs": [
        {
          "output_type": "execute_result",
          "data": {
            "text/plain": [
              "7"
            ]
          },
          "metadata": {},
          "execution_count": 99
        }
      ]
    },
    {
      "cell_type": "code",
      "source": [
        "# 2. 값 14을 인덱싱\n",
        "m[2,4]\n",
        "m[-1,-1]\n",
        "m[2,-1]\n",
        "m[-1,4]"
      ],
      "metadata": {
        "colab": {
          "base_uri": "https://localhost:8080/"
        },
        "id": "KZdZcZR_Wnrg",
        "outputId": "1070e7fc-b15c-4a49-d0a6-dc0c69e089b1"
      },
      "execution_count": 91,
      "outputs": [
        {
          "output_type": "execute_result",
          "data": {
            "text/plain": [
              "14"
            ]
          },
          "metadata": {},
          "execution_count": 91
        }
      ]
    },
    {
      "cell_type": "code",
      "source": [
        "#배열 [6,7]을 슬라이싱\n",
        "m[1,1:3]\n",
        "m[-2, 1:3]\n",
        "m[1, -4:-2]\n",
        "m[-2, -4:-2]"
      ],
      "metadata": {
        "colab": {
          "base_uri": "https://localhost:8080/"
        },
        "id": "x_uSuu5GWwTH",
        "outputId": "4903a90e-f64f-49f1-c8a4-224dd6ce2350"
      },
      "execution_count": 100,
      "outputs": [
        {
          "output_type": "execute_result",
          "data": {
            "text/plain": [
              "array([6, 7])"
            ]
          },
          "metadata": {},
          "execution_count": 100
        }
      ]
    },
    {
      "cell_type": "code",
      "source": [
        "#배열 [7,12]을 슬라이싱\n",
        "m[1:3,2:3]\n",
        "m[1,2] # 1행부터니까 1만 씀\n",
        "m[-2:2]\n",
        "m[-2:-3]\n",
        "m[1,-3]"
      ],
      "metadata": {
        "colab": {
          "base_uri": "https://localhost:8080/"
        },
        "id": "pAAJqYU_W4Wk",
        "outputId": "ef72e030-74b1-4283-b10e-6c8ab805c19c"
      },
      "execution_count": 94,
      "outputs": [
        {
          "output_type": "execute_result",
          "data": {
            "text/plain": [
              "array([[ 7],\n",
              "       [12]])"
            ]
          },
          "metadata": {},
          "execution_count": 94
        }
      ]
    },
    {
      "cell_type": "code",
      "source": [
        "#배열 [[3,4],[8,9]]을 슬라이싱\n",
        "m[0:2,3:5]\n",
        "m[:2,3:]\n",
        "print(m[:-1,3:])\n",
        "print(m[:2,-2:])\n",
        "print(m[:-1,-2:])"
      ],
      "metadata": {
        "colab": {
          "base_uri": "https://localhost:8080/"
        },
        "id": "g4LRSLYDW4bt",
        "outputId": "5dcc040b-80bb-487b-fb83-e57bed1b7b8c"
      },
      "execution_count": 95,
      "outputs": [
        {
          "output_type": "execute_result",
          "data": {
            "text/plain": [
              "array([[3, 4],\n",
              "       [8, 9]])"
            ]
          },
          "metadata": {},
          "execution_count": 95
        }
      ]
    },
    {
      "cell_type": "markdown",
      "source": [
        "## 배열 인덱싱 (배열을 넣어서 인덱싱 하겠다.)\n",
        "arr[...] => 정수형의 값. 슬라이싱(:) 범위\n",
        "대괄호(breacket, [])안에 인덱스 정보로 숫자나 슬라이스가 아니라 위치 정보를 나타내는 또 다른 'ndarray' 배역을 넣어서 특정 조건을 만족시키는 값만 조회\n",
        "* 1) 불(Bool)리언 값으로 되어 있는 배열\n",
        "*2) 정수 인덱스 배열\n"
      ],
      "metadata": {
        "id": "KOV89DIMXOiF"
      }
    },
    {
      "cell_type": "code",
      "source": [
        "# 벡터화 연산 -> 비교, 논리 연산\n",
        "# 불리언 배열 인덱싱\n",
        "# - 인덱스 배열의 원소가 True, False 두 값으로만 구성되며 배열의 크가 원래 ndarray 객체의 크기와 같을때 \n",
        "#벡터화 연산 -> 비교, 논리 연산"
      ],
      "metadata": {
        "id": "FcSMiAMowoo1"
      },
      "execution_count": 101,
      "outputs": []
    },
    {
      "cell_type": "code",
      "source": [
        "a = np.array([0,1,2,3,4,5,6,7,8,9]) # 배열 -> 짝수 원소만 골라내고 싶다\n",
        "idx = np.array([True, False,True, False,True, False,True, False,True, False]) #\n",
        "a[idx] # true인 결과나 # 괄호안에 배열을 넣을 수 있음 - true 인 결과만 남고 false만 남겨준다."
      ],
      "metadata": {
        "colab": {
          "base_uri": "https://localhost:8080/"
        },
        "id": "0cn1tiX_w6cA",
        "outputId": "fa4a598a-7157-4011-b0f0-8388c46c3570"
      },
      "execution_count": 102,
      "outputs": [
        {
          "output_type": "execute_result",
          "data": {
            "text/plain": [
              "array([0, 2, 4, 6, 8])"
            ]
          },
          "metadata": {},
          "execution_count": 102
        }
      ]
    },
    {
      "cell_type": "code",
      "source": [
        "# 벡터화 연산 -> 논리연산, 비교 연산\n",
        "a % 2 # 2의 배수는 나머지가 0일때 짝수\n",
        "a % 2 == 0"
      ],
      "metadata": {
        "colab": {
          "base_uri": "https://localhost:8080/"
        },
        "id": "sIwNGXkbxUDI",
        "outputId": "45fe5ca2-e1a7-47ef-b5a7-96f5f10efff5"
      },
      "execution_count": 103,
      "outputs": [
        {
          "output_type": "execute_result",
          "data": {
            "text/plain": [
              "array([ True, False,  True, False,  True, False,  True, False,  True,\n",
              "       False])"
            ]
          },
          "metadata": {},
          "execution_count": 103
        }
      ]
    },
    {
      "cell_type": "code",
      "source": [
        "a[a%2==0] # 조건문으로 계산해서 (벡터화 연산) 원래 배열에 인덱스를 넣어주면, 필터링이 된다 - 걸러내준다, 특정조건에 맞는 내용 가져오기"
      ],
      "metadata": {
        "colab": {
          "base_uri": "https://localhost:8080/"
        },
        "id": "erktazWBxlpH",
        "outputId": "2c464599-a2b4-4c10-a41d-49cc8c589419"
      },
      "execution_count": 104,
      "outputs": [
        {
          "output_type": "execute_result",
          "data": {
            "text/plain": [
              "array([0, 2, 4, 6, 8])"
            ]
          },
          "metadata": {},
          "execution_count": 104
        }
      ]
    },
    {
      "cell_type": "code",
      "source": [
        "a[a%3==0]"
      ],
      "metadata": {
        "colab": {
          "base_uri": "https://localhost:8080/"
        },
        "id": "lfEYsIHdxo-C",
        "outputId": "06d8b1c5-b6c9-4194-81be-d1a8749ec573"
      },
      "execution_count": 105,
      "outputs": [
        {
          "output_type": "execute_result",
          "data": {
            "text/plain": [
              "array([0, 3, 6, 9])"
            ]
          },
          "metadata": {},
          "execution_count": 105
        }
      ]
    },
    {
      "cell_type": "code",
      "source": [
        "a[a%3!=0]"
      ],
      "metadata": {
        "colab": {
          "base_uri": "https://localhost:8080/"
        },
        "id": "WgFcN_NHyJE0",
        "outputId": "8b5f81c5-61cc-43e2-dbb3-cdbc0c50a7f7"
      },
      "execution_count": 106,
      "outputs": [
        {
          "output_type": "execute_result",
          "data": {
            "text/plain": [
              "array([1, 2, 4, 5, 7, 8])"
            ]
          },
          "metadata": {},
          "execution_count": 106
        }
      ]
    },
    {
      "cell_type": "markdown",
      "source": [
        "## 정수 배열 인덱싱\n",
        "* 원래 배열의 인덱스 -> 정수값의 라벨링(0~)\n",
        "* 특정 정수들의 인덱스 배열을 넣으면, 해당 정수에 대응하는 값을 찾아서 표현해줌"
      ],
      "metadata": {
        "id": "KBIOB6BIyMXu"
      }
    },
    {
      "cell_type": "code",
      "source": [
        "a = np.array([1,2,3,4,5,6,7,8,9]) * 11\n",
        "a"
      ],
      "metadata": {
        "colab": {
          "base_uri": "https://localhost:8080/"
        },
        "id": "epxDZpFKycYN",
        "outputId": "755d71d7-fc1b-456a-95ad-7733f2d7dc1a"
      },
      "execution_count": 107,
      "outputs": [
        {
          "output_type": "execute_result",
          "data": {
            "text/plain": [
              "array([11, 22, 33, 44, 55, 66, 77, 88, 99])"
            ]
          },
          "metadata": {},
          "execution_count": 107
        }
      ]
    },
    {
      "cell_type": "code",
      "source": [
        "idx = np.array([0,2,4,6,8])\n",
        "a[idx] #특정한 위치에 해당하는 값을 호출"
      ],
      "metadata": {
        "colab": {
          "base_uri": "https://localhost:8080/"
        },
        "id": "oCaUFJL8yizQ",
        "outputId": "509b3225-414f-4a66-9ffa-56b0483f170c"
      },
      "execution_count": 108,
      "outputs": [
        {
          "output_type": "execute_result",
          "data": {
            "text/plain": [
              "array([11, 33, 55, 77, 99])"
            ]
          },
          "metadata": {},
          "execution_count": 108
        }
      ]
    },
    {
      "cell_type": "code",
      "source": [
        "idx2 =np.array([0,0,0,0,1,1,1,1,2,2,2,2])\n",
        "a[idx2]"
      ],
      "metadata": {
        "colab": {
          "base_uri": "https://localhost:8080/"
        },
        "id": "rAkXs1Hxyo_o",
        "outputId": "23c04a40-be44-4f70-8de7-866f84b9c0d6"
      },
      "execution_count": 111,
      "outputs": [
        {
          "output_type": "execute_result",
          "data": {
            "text/plain": [
              "array([11, 11, 11, 11, 22, 22, 22, 22, 33, 33, 33, 33])"
            ]
          },
          "metadata": {},
          "execution_count": 111
        }
      ]
    },
    {
      "cell_type": "markdown",
      "source": [
        "## 다차원 배열애서의 배열 인덱싱"
      ],
      "metadata": {
        "id": "WQ3wAU-zy5ez"
      }
    },
    {
      "cell_type": "code",
      "source": [
        "a = np.array([[1,2,3,4],[5,6,7,8],[9,10,11,12]])\n",
        "a"
      ],
      "metadata": {
        "colab": {
          "base_uri": "https://localhost:8080/"
        },
        "id": "_Oda31BozFn1",
        "outputId": "5ee53a76-fd21-48ce-ecf6-c2298dfd633a"
      },
      "execution_count": 113,
      "outputs": [
        {
          "output_type": "execute_result",
          "data": {
            "text/plain": [
              "array([[ 1,  2,  3,  4],\n",
              "       [ 5,  6,  7,  8],\n",
              "       [ 9, 10, 11, 12]])"
            ]
          },
          "metadata": {},
          "execution_count": 113
        }
      ]
    },
    {
      "cell_type": "code",
      "source": [
        "a.shape # 행열 개수 출력"
      ],
      "metadata": {
        "colab": {
          "base_uri": "https://localhost:8080/"
        },
        "id": "cJLO2Hh3zMD0",
        "outputId": "78c0fa3b-9f3c-4895-fe03-abb6b09b5c31"
      },
      "execution_count": 114,
      "outputs": [
        {
          "output_type": "execute_result",
          "data": {
            "text/plain": [
              "(3, 4)"
            ]
          },
          "metadata": {},
          "execution_count": 114
        }
      ]
    },
    {
      "cell_type": "code",
      "source": [
        "a[:,[True,False,True,False]] #행은 전부 출력, 열은 t만 출력"
      ],
      "metadata": {
        "colab": {
          "base_uri": "https://localhost:8080/"
        },
        "id": "T_2ZX8rvzSz3",
        "outputId": "121d6566-2176-4aba-b78d-11fa9b20f8b4"
      },
      "execution_count": 116,
      "outputs": [
        {
          "output_type": "execute_result",
          "data": {
            "text/plain": [
              "array([[ 1,  3],\n",
              "       [ 5,  7],\n",
              "       [ 9, 11]])"
            ]
          },
          "metadata": {},
          "execution_count": 116
        }
      ]
    },
    {
      "cell_type": "code",
      "source": [
        "a[[2,0,1],:]"
      ],
      "metadata": {
        "colab": {
          "base_uri": "https://localhost:8080/"
        },
        "id": "r5o4ueZAza3T",
        "outputId": "9d304b24-0531-47b8-913b-6a482c7fa6d6"
      },
      "execution_count": 117,
      "outputs": [
        {
          "output_type": "execute_result",
          "data": {
            "text/plain": [
              "array([[ 9, 10, 11, 12],\n",
              "       [ 1,  2,  3,  4],\n",
              "       [ 5,  6,  7,  8]])"
            ]
          },
          "metadata": {},
          "execution_count": 117
        }
      ]
    },
    {
      "cell_type": "markdown",
      "source": [
        "## 🐉 연습문제3\n",
        "```\n",
        "x = np.array([1, 2, 3, 4, 5, 6, 7, 8, 9, 10,\n",
        "             11, 12, 13, 14, 15, 16, 17, 18, 19, 20])\n",
        "```\n",
        "1. 3의 배수 찾기\n",
        "1. 4로 나누면 1이 남는 수 찾기\n",
        "1. 4로 나누면 나누어지고 4로 나누면 1이 남는 수 찾기"
      ],
      "metadata": {
        "id": "2CamBxaNzo8c"
      }
    },
    {
      "cell_type": "code",
      "source": [
        "x = np.array([1, 2, 3, 4, 5, 6, 7, 8, 9, 10,\n",
        "             11, 12, 13, 14, 15, 16, 17, 18, 19, 20])\n"
      ],
      "metadata": {
        "id": "6jgwtm5Rz5d2"
      },
      "execution_count": 118,
      "outputs": []
    },
    {
      "cell_type": "code",
      "source": [
        "x[x%3==0]"
      ],
      "metadata": {
        "colab": {
          "base_uri": "https://localhost:8080/"
        },
        "id": "RickIj1vz93D",
        "outputId": "025118a2-9657-48c5-e057-c433dfc38150"
      },
      "execution_count": 119,
      "outputs": [
        {
          "output_type": "execute_result",
          "data": {
            "text/plain": [
              "array([ 3,  6,  9, 12, 15, 18])"
            ]
          },
          "metadata": {},
          "execution_count": 119
        }
      ]
    },
    {
      "cell_type": "code",
      "source": [
        "x[x%4==0]"
      ],
      "metadata": {
        "colab": {
          "base_uri": "https://localhost:8080/"
        },
        "id": "RwXnQyRD0Wis",
        "outputId": "f96e7cc1-4a75-47b6-d162-290019b3e20b"
      },
      "execution_count": 126,
      "outputs": [
        {
          "output_type": "execute_result",
          "data": {
            "text/plain": [
              "array([ 4,  8, 12, 16, 20])"
            ]
          },
          "metadata": {},
          "execution_count": 126
        }
      ]
    },
    {
      "cell_type": "code",
      "source": [
        "x[(x%4==0)&(x%3==1)]"
      ],
      "metadata": {
        "colab": {
          "base_uri": "https://localhost:8080/"
        },
        "id": "XnfQsr1B0ZYG",
        "outputId": "744c1215-a006-411f-ffdf-a779945c05ee"
      },
      "execution_count": 127,
      "outputs": [
        {
          "output_type": "execute_result",
          "data": {
            "text/plain": [
              "array([ 4, 16])"
            ]
          },
          "metadata": {},
          "execution_count": 127
        }
      ]
    },
    {
      "cell_type": "markdown",
      "source": [
        "## 배열 검색"
      ],
      "metadata": {
        "id": "0SIx0Zhm1mUm"
      }
    },
    {
      "cell_type": "code",
      "source": [
        "arr = np.array([1,2,3,4,5,4,4])"
      ],
      "metadata": {
        "id": "7NIaAtg95fJH"
      },
      "execution_count": 130,
      "outputs": []
    },
    {
      "cell_type": "code",
      "source": [
        "x =np.where(arr == 4) # np.where(condititon) -> 조건을 만족시키는 인덱스를 리턴, (배열명 == 원하는 조건)\n",
        "x"
      ],
      "metadata": {
        "colab": {
          "base_uri": "https://localhost:8080/"
        },
        "id": "HrgmC8Sn5iv9",
        "outputId": "c13c3e98-6ef4-42e3-d849-843f1ad4def3"
      },
      "execution_count": 132,
      "outputs": [
        {
          "output_type": "execute_result",
          "data": {
            "text/plain": [
              "(array([3, 5, 6]),)"
            ]
          },
          "metadata": {},
          "execution_count": 132
        }
      ]
    },
    {
      "cell_type": "code",
      "source": [
        "arr = np.array([1, 2, 3, 4, 5, 6, 7, 8])\n",
        "\n",
        "x = np.where(arr % 2 == 0)\n",
        "\n",
        "x"
      ],
      "metadata": {
        "colab": {
          "base_uri": "https://localhost:8080/"
        },
        "id": "7krpDqhi5sFt",
        "outputId": "014a2c5e-7de4-4dc5-9747-47a929cc80e6"
      },
      "execution_count": 3,
      "outputs": [
        {
          "output_type": "execute_result",
          "data": {
            "text/plain": [
              "(array([1, 3, 5, 7]),)"
            ]
          },
          "metadata": {},
          "execution_count": 3
        }
      ]
    },
    {
      "cell_type": "code",
      "source": [
        "arr[x]"
      ],
      "metadata": {
        "colab": {
          "base_uri": "https://localhost:8080/"
        },
        "id": "0u51LpO63LxT",
        "outputId": "7578ffc2-e017-487c-bd4c-b5603c16f0e3"
      },
      "execution_count": 4,
      "outputs": [
        {
          "output_type": "execute_result",
          "data": {
            "text/plain": [
              "array([2, 4, 6, 8])"
            ]
          },
          "metadata": {},
          "execution_count": 4
        }
      ]
    },
    {
      "cell_type": "code",
      "source": [],
      "metadata": {
        "id": "4rcb3BJc3SLN"
      },
      "execution_count": null,
      "outputs": []
    }
  ]
}